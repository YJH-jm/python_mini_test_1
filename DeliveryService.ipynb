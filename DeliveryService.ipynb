{
 "cells": [
  {
   "cell_type": "code",
   "execution_count": 44,
   "metadata": {
    "executionInfo": {
     "elapsed": 276,
     "status": "ok",
     "timestamp": 1622030507304,
     "user": {
      "displayName": "유지현",
      "photoUrl": "",
      "userId": "01154310095318489763"
     },
     "user_tz": -540
    },
    "id": "GIJRAhM3RCRi"
   },
   "outputs": [],
   "source": [
    "# 필요한 변수 선언n \n",
    "'''\n",
    "address_number = {'강서구' : 1, '양천구' : 2, '구로구' : 3, '영등포구' : 4, \\\n",
    "                  '금천구' : 5, '관악구' : 6, '동작구' : 7, '서초구' : 8,  \\\n",
    "                  '강남구' : 9, '송파구' : 10, '강동구' : 11}\n",
    "'''\n",
    "\n",
    "address_number = {'강서구' : 1, '양천구' : 2, '구로구' : 3, '영등포구' : 4, \\\n",
    "                  '금천구' : 5, '관악구' : 6}\n",
    "\n",
    "store = {'강서구' : ['네네치킨'], \\\n",
    "         '구로구': ['신전떡볶이', '명랑핫도그'], \\\n",
    "         '양천구' : ['피자헛'],\\\n",
    "         '구로구' : ['와와닭발'],\\\n",
    "         '영등포구' : ['맥도날드', '00중국집'],\\\n",
    "         '관악구' : ['따봉돈까스']\n",
    "        }\n",
    "\n",
    "menu = {'네네치킨':{'후라이드':16000,'양념':17000,'치즈':18000},\\\n",
    "        '신전떡볶이' : {'순한맛': 4000, '중간맛' : 4000, '매운맛' : 4000},\\\n",
    "        '명랑핫도그' : {'치즈핫도그' : 2300, '감자핫도그':2300},\\\n",
    "        '와와닭발':{'국물닭발':19000,'뼈없는닭발':19000,'통뼈닭발':17000},\\\n",
    "        '피자헛':{'치즈':16900,'페페로니':16900,'슈퍼슈프림':19900},\\\n",
    "        '맥도날드':{'빅맥':4000,'맥스파이시':5000,'불고기버거':3000},\\\n",
    "        '중국집':{'짜장면':4000,'짬뽕':5000,'유산슬':8000},\\\n",
    "        '따봉돈까스':{'일반돈까스':6000,'매운맛돈까스':7000,'더블돈까스':9000}}\n"
   ]
  },
  {
   "cell_type": "code",
   "execution_count": 1,
   "metadata": {},
   "outputs": [],
   "source": [
    "import re"
   ]
  },
  {
   "cell_type": "code",
   "execution_count": 75,
   "metadata": {},
   "outputs": [],
   "source": [
    "def get_new_people(people_info):\n",
    "    \n",
    "    pattern_id = re.compile(\"\\w+[@]\\w+[.]\\w+$\")\n",
    "    pattern_pw = re.compile(\"[a-zA-Z0-9]+\") # 문자와 숫자만으로 구성\n",
    "    \n",
    "    \n",
    "    \n",
    "    new_info = {}\n",
    "    while True:\n",
    "        input_id = input(\"새롭게 만들 아이디를 입력(_@_._) : \")\n",
    "        match_id= pattern_id.match(input_id)\n",
    "        if match_id == None:\n",
    "            print(\"아이디 형식에 맞지 않습니다.\")\n",
    "        \n",
    "        else: # 형식에 맞는 아이디!\n",
    "            if input_id not in people_info: # 아이디 리스트에 없으면 \n",
    "                while True:\n",
    "                    input_pw = input(\"비밀번호 입력 : \")\n",
    "                    match_pw = pattern_pw.match(input_pw)\n",
    "                    if match_pw == None:\n",
    "                        print(\"비밀번호는 숫자와 알파벳으로 구성됩니다.\")\n",
    "                    else:\n",
    "                        new_info[input_id] = input_pw\n",
    "                        break\n",
    "                break\n",
    "            else: # 아이디 리스트에 있으면 \n",
    "                print(\"만든 아이디가 이미 존재합니다.\")\n",
    "        \n",
    "    # 새롭게 만든 id와 파일에 저장하는 코드 필요\n",
    "    \n",
    "    check = input(\"로그인을 원하는 경우(YES 입력) / 원하지 않는 경우(NO 입력) : \")\n",
    "    if check == \"YES\":\n",
    "        return True\n",
    "    else:\n",
    "        False\n",
    "        "
   ]
  },
  {
   "cell_type": "code",
   "execution_count": 74,
   "metadata": {
    "executionInfo": {
     "elapsed": 9,
     "status": "ok",
     "timestamp": 1622030508503,
     "user": {
      "displayName": "유지현",
      "photoUrl": "",
      "userId": "01154310095318489763"
     },
     "user_tz": -540
    },
    "id": "E2bPB_uDRCRp"
   },
   "outputs": [],
   "source": [
    "def login_check():\n",
    "    '''\n",
    "    입력한 id와 pw가 일치한다면 True\n",
    "    아니면 False를 반환하는 함수\n",
    "    '''\n",
    "    input_id = input(\"아이디 입력 : \")\n",
    "    \n",
    "    people_info = {}\n",
    "    \n",
    "    with open(\"list.csv\", 'r', encoding = 'utf-8') as f:\n",
    "        datas = f.readlines()\n",
    "        # print(datas)\n",
    "        for row in datas:\n",
    "            data = row.strip()\n",
    "            data = data.split(',')\n",
    "            people_info[data[0]] = data[1]\n",
    "    \n",
    "\n",
    "    if input_id in people_info:\n",
    "        while True:\n",
    "            input_pw = input(\"비밀번호 입력(\\q 입력은 나가기) : \")\n",
    "            if input_pw == '\\q':\n",
    "                break\n",
    "            \n",
    "            if input_pw == people_info[input_id]:\n",
    "                print(\"로그인 성공\")\n",
    "                break\n",
    "                \n",
    "            else:\n",
    "                print(\"비밀번호가 틀렸습니다. \")\n",
    "                \n",
    "        \n",
    "    else:\n",
    "        print(\"회원가입이 필요합니다.\")\n",
    "        print(\"회원가입을 하시려면 YES 아니면 NO를 입력하세요.\")\n",
    "        \n",
    "        if input() == \"YES\": # 회원가입하려는 경우 \n",
    "            \n",
    "            if get_new_people(people_info): # 회원가입하고 로그인 하는 경우\n",
    "                login_check()\n",
    "            else: \n",
    "                return False # 회원가입하고 로그인 바로 안 하는 경우\n",
    "        \n",
    "        else:\n",
    "            print(\"나중에 회원가입 하세요!\")\n",
    "            return False"
   ]
  },
  {
   "cell_type": "code",
   "execution_count": 46,
   "metadata": {
    "executionInfo": {
     "elapsed": 8,
     "status": "ok",
     "timestamp": 1622030509679,
     "user": {
      "displayName": "유지현",
      "photoUrl": "",
      "userId": "01154310095318489763"
     },
     "user_tz": -540
    },
    "id": "BLUyCl0eRCRq"
   },
   "outputs": [],
   "source": [
    "def get_address():\n",
    "    '''\n",
    "    내가 배달을 시킬 곳의 주소와 배달 가능한 지역을 반환하는 함수\n",
    "    '''\n",
    "    address = input(\"주소지 입력 : \")\n",
    "    lst = []\n",
    "    \n",
    "    for key, value in address_number.items():\n",
    "        diff = address_number[address] - value\n",
    "        if -2 <= diff <= 2:\n",
    "            lst.append(key)\n",
    "            \n",
    "    print(\"-\"*50)\n",
    "    print(\"우리 동네에서 배달 가능한 지역\")\n",
    "    \n",
    "    for addr in lst:\n",
    "        print(addr, end = ' | ')\n",
    "    \n",
    "    print(\"\\n\")\n",
    "    print(\"-\"*50)\n",
    "    \n",
    "    return address, lst "
   ]
  },
  {
   "cell_type": "code",
   "execution_count": 47,
   "metadata": {
    "executionInfo": {
     "elapsed": 10,
     "status": "ok",
     "timestamp": 1622030510770,
     "user": {
      "displayName": "유지현",
      "photoUrl": "",
      "userId": "01154310095318489763"
     },
     "user_tz": -540
    },
    "id": "4pM9tEpbRCRq"
   },
   "outputs": [],
   "source": [
    "def store_name(addr, lst):\n",
    "    '''\n",
    "    lst(배달가능한 곳의 지역, 리스트)와 addr(내가 주문 시킬 곳,string)\n",
    "    을 입력받아 조건에 맞는 가게를 선택하여 반환하는 함수\n",
    "    '''\n",
    "    select_store = []\n",
    "    \n",
    "    for i in store:\n",
    "        if i in lst:\n",
    "            select_store += store[i]\n",
    "            \n",
    "   \n",
    "    print(\"주문 가능한 가게들 \")\n",
    "    \n",
    "    for value in select_store:\n",
    "        print(value, end = ' l ')\n",
    "    \n",
    "    print(\"\")\n",
    "    want_store = input(\"가게입력 : \")\n",
    "\n",
    "    return want_store"
   ]
  },
  {
   "cell_type": "code",
   "execution_count": 48,
   "metadata": {
    "executionInfo": {
     "elapsed": 7,
     "status": "ok",
     "timestamp": 1622030512011,
     "user": {
      "displayName": "유지현",
      "photoUrl": "",
      "userId": "01154310095318489763"
     },
     "user_tz": -540
    },
    "id": "U5-JrTVVRCRr"
   },
   "outputs": [],
   "source": [
    "def menu_select(sel_store):\n",
    "    '''\n",
    "    선택된 가게를 인자로 받아 주문할 메뉴와 수량을 선택하여\n",
    "    장바구니에 담고 이를 반환하는 함수\n",
    "    '''\n",
    "    shopping_cart = {}\n",
    "    \n",
    "    while True:\n",
    "        # print(menu[sel_store])\n",
    "        for key, value in menu[sel_store].items():\n",
    "          print(key + \" : \" + str(value), end = \" | \")\n",
    "        print(\"\\n\")\n",
    "        \n",
    "        sel_menu = input('주문하실 메뉴명을 입력해주세요.')\n",
    "        if sel_menu in menu[sel_store]:\n",
    "            while True:\n",
    "                sel_cnt=input('주문하실 수량을 입력하세요.')\n",
    "                if sel_cnt.isdigit():\n",
    "                    break\n",
    "                else:\n",
    "                    print('숫자를 입력하세요')\n",
    "            if sel_menu in shopping_cart:\n",
    "                shopping_cart[sel_menu] += int(sel_cnt)\n",
    "            else:\n",
    "                shopping_cart[sel_menu] = int(sel_cnt)\n",
    "            print('장바구니에 %s 메뉴 %s개 가 추가되었습니다.' % (sel_menu,sel_cnt))\n",
    "            if input('추가 주문을 하신다면 1, 주문을 완료하신다면 2를 입력해주세요.') == '2':\n",
    "                break\n",
    "        else:\n",
    "            print('메뉴명을 확인해주세요.')\n",
    "            \n",
    "    return shopping_cart\n"
   ]
  },
  {
   "cell_type": "code",
   "execution_count": 51,
   "metadata": {
    "executionInfo": {
     "elapsed": 12,
     "status": "ok",
     "timestamp": 1622030514894,
     "user": {
      "displayName": "유지현",
      "photoUrl": "",
      "userId": "01154310095318489763"
     },
     "user_tz": -540
    },
    "id": "9uuUKEveRCRs"
   },
   "outputs": [],
   "source": [
    "def total_pay(sel_store, shopping_cart):\n",
    "    price = 0\n",
    "    for k,v in shopping_cart.items():\n",
    "        price += menu[sel_store][k] * v\n",
    "    print('메뉴 총 가격 :',price)\n"
   ]
  },
  {
   "cell_type": "code",
   "execution_count": 52,
   "metadata": {
    "executionInfo": {
     "elapsed": 10,
     "status": "ok",
     "timestamp": 1622030515939,
     "user": {
      "displayName": "유지현",
      "photoUrl": "",
      "userId": "01154310095318489763"
     },
     "user_tz": -540
    },
    "id": "swHdLHUcRCRu"
   },
   "outputs": [],
   "source": [
    "def delivery_service():\n",
    "    '''\n",
    "    배달 사이트에서 로그인하여 주문하는 과정까지를 나타내는 함수 \n",
    "    '''\n",
    "    if login_check(): \n",
    "        print(\"!로그인 성공!\")\n",
    "        print(\"서비스 가능 지역\")\n",
    "        \n",
    "        for i in address_number:\n",
    "            print(i, end = ' | ')\n",
    "        \n",
    "        print('\\n')\n",
    "\n",
    "        my_address, avail_address = get_address() \n",
    "        select_store_name = store_name(my_address, avail_address)\n",
    "        shopping_dict = menu_select(select_store_name)\n",
    "        total_pay(select_store_name, shopping_dict)\n",
    "    "
   ]
  }
 ],
 "metadata": {
  "colab": {
   "collapsed_sections": [],
   "name": "DeliveryService.ipynb",
   "provenance": []
  },
  "kernelspec": {
   "display_name": "Python 3",
   "language": "python",
   "name": "python3"
  },
  "language_info": {
   "codemirror_mode": {
    "name": "ipython",
    "version": 3
   },
   "file_extension": ".py",
   "mimetype": "text/x-python",
   "name": "python",
   "nbconvert_exporter": "python",
   "pygments_lexer": "ipython3",
   "version": "3.8.5"
  }
 },
 "nbformat": 4,
 "nbformat_minor": 1
}
